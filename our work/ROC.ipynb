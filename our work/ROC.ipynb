{
 "cells": [
  {
   "cell_type": "code",
   "execution_count": 15,
   "id": "7d961e4e",
   "metadata": {},
   "outputs": [],
   "source": [
    "import matplotlib.pyplot as plt\n",
    "import matplotlib\n",
    "from deepface import DeepFace\n",
    "from numpy import savetxt\n",
    "from numpy import loadtxt\n",
    "import numpy as np"
   ]
  },
  {
   "cell_type": "code",
   "execution_count": 16,
   "id": "501f0a1a",
   "metadata": {},
   "outputs": [],
   "source": [
    "# load facenet imposter distinces\n",
    "fb1 = loadtxt(\"GBU-Dataset/dis/imp_bad+OpenFace.csv\", delimiter=',')\n",
    "fg1 = loadtxt(\"GBU-Dataset/dis/imp_good+OpenFace.csv\", delimiter=',')\n",
    "fu1 = loadtxt(\"GBU-Dataset/dis/imp_ugly+OpenFace.csv\", delimiter=',')"
   ]
  },
  {
   "cell_type": "code",
   "execution_count": 17,
   "id": "60296ca8",
   "metadata": {},
   "outputs": [],
   "source": [
    "fb2 = loadtxt(\"GBU-Dataset/dis/gin_bad+OpenFace.csv\", delimiter=',')\n",
    "fg2 = loadtxt(\"GBU-Dataset/dis/gin_good+OpenFace.csv\", delimiter=',')\n",
    "fu2 = loadtxt(\"GBU-Dataset/dis/gin_ugly+OpenFace.csv\", delimiter=',')"
   ]
  },
  {
   "cell_type": "code",
   "execution_count": 18,
   "id": "bca74426",
   "metadata": {},
   "outputs": [
    {
     "data": {
      "text/plain": [
       "[<matplotlib.lines.Line2D at 0x1f1a03023d0>]"
      ]
     },
     "execution_count": 18,
     "metadata": {},
     "output_type": "execute_result"
    },
    {
     "data": {
      "image/png": "[encoded data removed]",
      "text/plain": [
       "<Figure size 432x288 with 1 Axes>"
      ]
     },
     "metadata": {
      "needs_background": "light"
     },
     "output_type": "display_data"
    }
   ],
   "source": [
    "# the three lines graph\n",
    "th = np.arange(0.000,1,0.001)\n",
    "def cnt(ar,th):\n",
    "    cnt = 0\n",
    "    for i in ar:\n",
    "        if i <= th:\n",
    "            cnt+=1\n",
    "    return cnt/len(ar)\n",
    "fe_bad = np.empty(1000)\n",
    "fe_good = np.empty(1000)\n",
    "fe_ugly = np.empty(1000)\n",
    "\n",
    "\n",
    "for i in range(1000):\n",
    "    fe_bad[i] = cnt(fb1,th[i])\n",
    "    fe_good[i] = cnt(fg1,th[i])\n",
    "    fe_ugly[i] = cnt(fu1,th[i])\n",
    "   \n",
    "te_bad = np.empty(1000)\n",
    "te_good = np.empty(1000)\n",
    "te_ugly = np.empty(1000)\n",
    "\n",
    "\n",
    "for i in range(1000):\n",
    "    te_bad[i] = cnt(fb2,th[i])\n",
    "    te_good[i] = cnt(fg2,th[i])\n",
    "    te_ugly[i] = cnt(fu2,th[i])\n",
    "   \n",
    "\n",
    "import matplotlib.pyplot as plt\n",
    "\n",
    "plt.plot(te_bad,fe_bad)\n",
    "plt.plot(te_ugly,fe_ugly,color=\"red\")\n",
    "plt.plot(te_good,fe_good,color=\"green\")"
   ]
  },
  {
   "cell_type": "code",
   "execution_count": null,
   "id": "3dcfcd9a",
   "metadata": {},
   "outputs": [],
   "source": []
  }
 ],
 "metadata": {
  "kernelspec": {
   "display_name": "Python 3 (ipykernel)",
   "language": "python",
   "name": "python3"
  },
  "language_info": {
   "codemirror_mode": {
    "name": "ipython",
    "version": 3
   },
   "file_extension": ".py",
   "mimetype": "text/x-python",
   "name": "python",
   "nbconvert_exporter": "python",
   "pygments_lexer": "ipython3",
   "version": "3.9.7"
  }
 },
 "nbformat": 4,
 "nbformat_minor": 5
}
